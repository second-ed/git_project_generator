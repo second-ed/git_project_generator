{
 "cells": [
  {
   "cell_type": "code",
   "execution_count": 1,
   "metadata": {},
   "outputs": [],
   "source": [
    "from src.git_project_generator import GitProjectGenerator"
   ]
  },
  {
   "cell_type": "code",
   "execution_count": 2,
   "metadata": {},
   "outputs": [],
   "source": [
    "gpg = GitProjectGenerator(\n",
    "    \"/Users/edcuss/My Drive/Jupyter Notebooks/\",\n",
    "    \"/Users/edcuss/My Drive/Jupyter Notebooks/git_project_generator/template_files/\",\n",
    "    \"git_project_generator\",\n",
    "    \"ed cuss\"\n",
    ")\n",
    "gpg.create_git_dir()"
   ]
  },
  {
   "cell_type": "code",
   "execution_count": null,
   "metadata": {},
   "outputs": [],
   "source": []
  }
 ],
 "metadata": {
  "kernelspec": {
   "display_name": "base",
   "language": "python",
   "name": "python3"
  },
  "language_info": {
   "codemirror_mode": {
    "name": "ipython",
    "version": 3
   },
   "file_extension": ".py",
   "mimetype": "text/x-python",
   "name": "python",
   "nbconvert_exporter": "python",
   "pygments_lexer": "ipython3",
   "version": "3.11.5"
  }
 },
 "nbformat": 4,
 "nbformat_minor": 2
}
